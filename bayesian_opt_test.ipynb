{
 "cells": [
  {
   "cell_type": "markdown",
   "metadata": {},
   "source": [
    "## Problem Statement\n",
    "Your client is a large MNC and they have 9 broad verticals across the organisation. One of the problem your client is facing is around identifying the right people for promotion (only for manager position and below) and prepare them in time. Currently the process, they are following is:\n",
    "\n",
    "They first identify a set of employees based on recommendations/ past performance\n",
    "Selected employees go through the separate training and evaluation program for each vertical. These programs are based on the required skill of each vertical\n",
    "At the end of the program, based on various factors such as training performance, KPI completion (only employees with KPIs completed greater than 60% are considered) etc., employee gets promotion\n",
    "For above mentioned process, the final promotions are only announced after the evaluation and this leads to delay in transition to their new roles. Hence, company needs your help in identifying the eligible candidates at a particular checkpoint so that they can expedite the entire promotion cycle.\n",
    "\n"
   ]
  },
  {
   "cell_type": "code",
   "execution_count": null,
   "metadata": {},
   "outputs": [],
   "source": [
    "# To suppress warnings\n",
    "import warnings\n",
    "warnings.filterwarnings(\"ignore\")\n",
    "\n",
    "# For setting working director\n",
    "import os\n",
    "os.chdir(r'/home/xavient/wns_hack')\n",
    "#os.chdir(r'C:\\Users\\mohammad shafin\\Desktop\\wns_hack')\n",
    "\n",
    "import numpy as np\n",
    "import pandas as pd\n",
    "import matplotlib.pyplot as plt\n",
    "\n",
    "#machine learning libraries\n",
    "from bayes_opt import BayesianOptimization\n",
    "import xgboost as xgb\n",
    "import lightgbm as lgb\n",
    "\n",
    "from sklearn.ensemble import RandomForestRegressor, RandomForestClassifier\n",
    "from sklearn.metrics import accuracy_score, average_precision_score, f1_score, recall_score, roc_auc_score,confusion_matrix\n",
    "from sklearn.model_selection import train_test_split, cross_val_score\n",
    "from sklearn.preprocessing import scale\n",
    "\n",
    "# variables\n",
    "iter_no = 5\n",
    "gp_params = {'alpha': 1e-5}\n",
    "cv_splits = 8\n",
    "seed = 42\n"
   ]
  },
  {
   "cell_type": "code",
   "execution_count": 2,
   "metadata": {},
   "outputs": [],
   "source": [
    "data = pd.read_csv('train.csv')"
   ]
  },
  {
   "cell_type": "code",
   "execution_count": 3,
   "metadata": {},
   "outputs": [
    {
     "data": {
      "text/html": [
       "<div>\n",
       "<style scoped>\n",
       "    .dataframe tbody tr th:only-of-type {\n",
       "        vertical-align: middle;\n",
       "    }\n",
       "\n",
       "    .dataframe tbody tr th {\n",
       "        vertical-align: top;\n",
       "    }\n",
       "\n",
       "    .dataframe thead th {\n",
       "        text-align: right;\n",
       "    }\n",
       "</style>\n",
       "<table border=\"1\" class=\"dataframe\">\n",
       "  <thead>\n",
       "    <tr style=\"text-align: right;\">\n",
       "      <th></th>\n",
       "      <th>employee_id</th>\n",
       "      <th>department</th>\n",
       "      <th>region</th>\n",
       "      <th>education</th>\n",
       "      <th>gender</th>\n",
       "      <th>recruitment_channel</th>\n",
       "      <th>no_of_trainings</th>\n",
       "      <th>age</th>\n",
       "      <th>previous_year_rating</th>\n",
       "      <th>length_of_service</th>\n",
       "      <th>KPIs_met &gt;80%</th>\n",
       "      <th>awards_won?</th>\n",
       "      <th>avg_training_score</th>\n",
       "      <th>is_promoted</th>\n",
       "    </tr>\n",
       "  </thead>\n",
       "  <tbody>\n",
       "    <tr>\n",
       "      <th>0</th>\n",
       "      <td>65438</td>\n",
       "      <td>Sales &amp; Marketing</td>\n",
       "      <td>region_7</td>\n",
       "      <td>Master's &amp; above</td>\n",
       "      <td>f</td>\n",
       "      <td>sourcing</td>\n",
       "      <td>1</td>\n",
       "      <td>35</td>\n",
       "      <td>5.0</td>\n",
       "      <td>8</td>\n",
       "      <td>1</td>\n",
       "      <td>0</td>\n",
       "      <td>49</td>\n",
       "      <td>0</td>\n",
       "    </tr>\n",
       "    <tr>\n",
       "      <th>1</th>\n",
       "      <td>65141</td>\n",
       "      <td>Operations</td>\n",
       "      <td>region_22</td>\n",
       "      <td>Bachelor's</td>\n",
       "      <td>m</td>\n",
       "      <td>other</td>\n",
       "      <td>1</td>\n",
       "      <td>30</td>\n",
       "      <td>5.0</td>\n",
       "      <td>4</td>\n",
       "      <td>0</td>\n",
       "      <td>0</td>\n",
       "      <td>60</td>\n",
       "      <td>0</td>\n",
       "    </tr>\n",
       "    <tr>\n",
       "      <th>2</th>\n",
       "      <td>7513</td>\n",
       "      <td>Sales &amp; Marketing</td>\n",
       "      <td>region_19</td>\n",
       "      <td>Bachelor's</td>\n",
       "      <td>m</td>\n",
       "      <td>sourcing</td>\n",
       "      <td>1</td>\n",
       "      <td>34</td>\n",
       "      <td>3.0</td>\n",
       "      <td>7</td>\n",
       "      <td>0</td>\n",
       "      <td>0</td>\n",
       "      <td>50</td>\n",
       "      <td>0</td>\n",
       "    </tr>\n",
       "    <tr>\n",
       "      <th>3</th>\n",
       "      <td>2542</td>\n",
       "      <td>Sales &amp; Marketing</td>\n",
       "      <td>region_23</td>\n",
       "      <td>Bachelor's</td>\n",
       "      <td>m</td>\n",
       "      <td>other</td>\n",
       "      <td>2</td>\n",
       "      <td>39</td>\n",
       "      <td>1.0</td>\n",
       "      <td>10</td>\n",
       "      <td>0</td>\n",
       "      <td>0</td>\n",
       "      <td>50</td>\n",
       "      <td>0</td>\n",
       "    </tr>\n",
       "    <tr>\n",
       "      <th>4</th>\n",
       "      <td>48945</td>\n",
       "      <td>Technology</td>\n",
       "      <td>region_26</td>\n",
       "      <td>Bachelor's</td>\n",
       "      <td>m</td>\n",
       "      <td>other</td>\n",
       "      <td>1</td>\n",
       "      <td>45</td>\n",
       "      <td>3.0</td>\n",
       "      <td>2</td>\n",
       "      <td>0</td>\n",
       "      <td>0</td>\n",
       "      <td>73</td>\n",
       "      <td>0</td>\n",
       "    </tr>\n",
       "  </tbody>\n",
       "</table>\n",
       "</div>"
      ],
      "text/plain": [
       "   employee_id         department     region         education gender  \\\n",
       "0        65438  Sales & Marketing   region_7  Master's & above      f   \n",
       "1        65141         Operations  region_22        Bachelor's      m   \n",
       "2         7513  Sales & Marketing  region_19        Bachelor's      m   \n",
       "3         2542  Sales & Marketing  region_23        Bachelor's      m   \n",
       "4        48945         Technology  region_26        Bachelor's      m   \n",
       "\n",
       "  recruitment_channel  no_of_trainings  age  previous_year_rating  \\\n",
       "0            sourcing                1   35                   5.0   \n",
       "1               other                1   30                   5.0   \n",
       "2            sourcing                1   34                   3.0   \n",
       "3               other                2   39                   1.0   \n",
       "4               other                1   45                   3.0   \n",
       "\n",
       "   length_of_service  KPIs_met >80%  awards_won?  avg_training_score  \\\n",
       "0                  8              1            0                  49   \n",
       "1                  4              0            0                  60   \n",
       "2                  7              0            0                  50   \n",
       "3                 10              0            0                  50   \n",
       "4                  2              0            0                  73   \n",
       "\n",
       "   is_promoted  \n",
       "0            0  \n",
       "1            0  \n",
       "2            0  \n",
       "3            0  \n",
       "4            0  "
      ]
     },
     "execution_count": 3,
     "metadata": {},
     "output_type": "execute_result"
    }
   ],
   "source": [
    "data.head()"
   ]
  },
  {
   "cell_type": "code",
   "execution_count": 4,
   "metadata": {},
   "outputs": [
    {
     "data": {
      "image/png": "[encoded data removed]",
      "text/plain": [
       "<Figure size 432x288 with 1 Axes>"
      ]
     },
     "metadata": {},
     "output_type": "display_data"
    }
   ],
   "source": [
    "data.isna().sum().plot(kind='bar')\n",
    "plt.show()"
   ]
  },
  {
   "cell_type": "code",
   "execution_count": 5,
   "metadata": {},
   "outputs": [],
   "source": [
    "\n",
    "def treesXGBCV(eta, gamma,max_depth,min_child_weight,subsample,colsample_bytree,n_estimators):\n",
    "    #function for cross validation gradient boosted trees\n",
    "    return cross_val_score(xgb.XGBRegressor(objective='binary:logistic',\n",
    "    \t\t\t\t\t\t\t\t\t\t\ttree_method = 'hist',\n",
    "                                                learning_rate=max(eta,0),\n",
    "                                                gamma=max(gamma,0),\n",
    "                                                max_depth=int(max_depth),\n",
    "                                                min_child_weight=int(min_child_weight),\n",
    "                                                silent=True,\n",
    "                                                subsample=max(min(subsample,1),0.0001),\n",
    "                                                colsample_bytree=max(min(colsample_bytree,1),0.0001),\n",
    "                                                n_estimators=int(n_estimators),\n",
    "                                                seed=seed,nthread=-1), \n",
    "                           X=X_train, y=y_train, scoring=None, cv=cv_splits, n_jobs=-1).mean()\n",
    "\n",
    "\n",
    "def treesLGBCV(eta, max_depth,min_child_weight,subsample,colsample_bytree,n_estimators):\n",
    "    #function for cross validation gradient boosted trees\n",
    "    return cross_val_score(lgb.LGBMRegressor(objective='binary',\n",
    "    \t\t\t\t\t\t\t\t\t\t\tboosting_type = 'goss',\n",
    "                                                learning_rate=max(eta,0),\n",
    "                                                max_depth=int(max_depth),\n",
    "                                                min_child_weight=int(min_child_weight),\n",
    "                                                silent=True,\n",
    "                                                subsample=max(min(subsample,1),0.0001),\n",
    "                                                colsample_bytree=max(min(colsample_bytree,1),0.0001),\n",
    "                                                n_estimators=int(n_estimators),\n",
    "                                                random_state=seed,nthread=-1), \n",
    "                           X=X_train, y=y_train, scoring=None, cv=cv_splits, n_jobs=-1).mean()\n",
    "\n",
    "\n",
    "def treesRFCV(max_depth,max_leaf_nodes,min_impurity_decrease,n_estimators):\n",
    "    #function for cross validation gradient boosted trees\n",
    "    return cross_val_score(RandomForestClassifier(criterion = 'entropy',\n",
    "                                                max_features =None,\n",
    "                                                max_depth=int(max_depth),\n",
    "                                                max_leaf_nodes = int(max_leaf_nodes),\n",
    "                                                min_impurity_decrease = int(min_impurity_decrease),\n",
    "                                                n_estimators=int(n_estimators),\n",
    "                                                random_state=seed,n_jobs=-1), \n",
    "                           X=X_train, y=y_train, scoring=None, cv=cv_splits, n_jobs=-1).mean()"
   ]
  },
  {
   "cell_type": "code",
   "execution_count": 6,
   "metadata": {},
   "outputs": [],
   "source": [
    "def data_prep(data_df):\n",
    "\n",
    "    #how to handle types\n",
    "    data_df_num = data_df.select_dtypes(exclude=object)\n",
    "    data_df_obj = data_df.select_dtypes(include=object)\n",
    "\n",
    "    #how to handle nan\n",
    "    data_df_num = data_df_num.fillna(data_df_num.mean())\n",
    "    for column in data_df_num.columns:\n",
    "        data_df_num[column] = scale(data_df_num[column])\n",
    "    #get dummy variables\n",
    "    data_df_obj = data_df_obj.fillna(\"UNKNOWN\")\n",
    "    data_df_obj = pd.get_dummies(data_df_obj, dummy_na=True)\n",
    "\n",
    "    data_concat = pd.concat([data_df_num, data_df_obj],axis=1)\n",
    "\n",
    "    return data_concat.drop(['department_nan','department_R&D','department_Finance','department_Operations',\n",
    "                             'education_nan','education_Below Secondary',\n",
    "                             'region_region_18','region_nan','region_region_10','region_region_12','region_region_24',\n",
    "                             'region_region_31', 'region_region_33','region_region_1','region_region_13','region_region_14',\n",
    "                             'region_region_15','region_region_27','region_region_30','region_region_8','region_region_3',\n",
    "                             'recruitment_channel_sourcing','recruitment_channel_other','recruitment_channel_nan',\n",
    "                             'gender_m','gender_nan','region_region_21','region_region_6', 'region_region_5'],axis=1) "
   ]
  },
  {
   "cell_type": "code",
   "execution_count": 7,
   "metadata": {},
   "outputs": [],
   "source": [
    "def data_split(df):\n",
    "    \n",
    "    # Create a data split of train, test and original\n",
    "    train = df.sample(frac=.70,random_state=seed)\n",
    "    test = df[-df.employee_id.isin(train.employee_id)]\n",
    "    train = train.set_index('employee_id')\n",
    "    test = test.set_index('employee_id')\n",
    "    df = df.set_index('employee_id')\n",
    "    return train, test, df"
   ]
  },
  {
   "cell_type": "code",
   "execution_count": 8,
   "metadata": {},
   "outputs": [],
   "source": [
    "\n",
    "# reading data\n",
    "data_train = pd.read_csv('train.csv', sep=',',encoding=\"ISO-8859-1\")\n",
    "data_train['is_promoted'] = data_train['is_promoted'].astype('object')\n",
    "data_train, data_test, data = data_split(data_train)\n",
    "data_train = data_prep(data_train)\n",
    "data_test = data_prep(data_test)\n",
    "\n",
    "#data_pred = pd.read_csv('test.csv', sep=',',encoding=\"ISO-8859-1\")\n",
    "#data_pred = data_pred.set_index(\"employee_id\")\n",
    "#data_pred = data_prep(data_pred)\n",
    "\n",
    "\n"
   ]
  },
  {
   "cell_type": "code",
   "execution_count": 9,
   "metadata": {},
   "outputs": [
    {
     "data": {
      "text/plain": [
       "((38366, 36), (16442, 36), (54808, 13))"
      ]
     },
     "execution_count": 9,
     "metadata": {},
     "output_type": "execute_result"
    }
   ],
   "source": [
    "data_train.shape, data_test.shape, data.shape"
   ]
  },
  {
   "cell_type": "code",
   "execution_count": 25,
   "metadata": {},
   "outputs": [],
   "source": [
    "#train test split doesnt actually split\n",
    "X_train, X_test, y_train, y_test = train_test_split(np.array(data_train.drop(['is_promoted'],axis=1)), np.array(data_train['is_promoted']), test_size=0, random_state=42)\n",
    "X_test1 = np.array(data_test.drop('is_promoted', axis=1))\n",
    "y_test1 = np.array(data_test['is_promoted'])"
   ]
  },
  {
   "cell_type": "code",
   "execution_count": 11,
   "metadata": {},
   "outputs": [
    {
     "name": "stdout",
     "output_type": "stream",
     "text": [
      "\u001b[31mInitialization\u001b[0m\n",
      "\u001b[94m--------------------------------------------------------------------------------------------------------------------------------------------\u001b[0m\n",
      " Step |   Time |      Value |   colsample_bytree |       eta |     gamma |   max_depth |   min_child_weight |   n_estimators |   subsample | \n",
      "    1 | 00m34s | \u001b[35m   0.37259\u001b[0m | \u001b[32m            0.5125\u001b[0m | \u001b[32m   0.1199\u001b[0m | \u001b[32m  12.1762\u001b[0m | \u001b[32m   541.7175\u001b[0m | \u001b[32m            0.5313\u001b[0m | \u001b[32m      779.4823\u001b[0m | \u001b[32m     0.5460\u001b[0m | \n",
      "    2 | 01m11s | \u001b[35m   0.37538\u001b[0m | \u001b[32m            0.5113\u001b[0m | \u001b[32m   0.1176\u001b[0m | \u001b[32m  11.9622\u001b[0m | \u001b[32m   575.9374\u001b[0m | \u001b[32m            0.6588\u001b[0m | \u001b[32m     1647.4624\u001b[0m | \u001b[32m     0.5747\u001b[0m | \n",
      "    3 | 00m35s | \u001b[35m   0.37552\u001b[0m | \u001b[32m            0.5930\u001b[0m | \u001b[32m   0.1169\u001b[0m | \u001b[32m  10.4140\u001b[0m | \u001b[32m   560.3918\u001b[0m | \u001b[32m            0.5645\u001b[0m | \u001b[32m      646.3457\u001b[0m | \u001b[32m     0.5718\u001b[0m | \n",
      "    4 | 00m23s |    0.37392 |             0.5358 |    0.1092 |   10.1873 |    570.2750 |             0.5903 |       526.7525 |      0.5069 | \n",
      "    5 | 00m59s |    0.37506 |             0.5761 |    0.1081 |   10.0460 |    579.1831 |             0.5866 |      1363.4574 |      0.4805 | \n",
      "\u001b[31mBayesian Optimization\u001b[0m\n",
      "\u001b[94m--------------------------------------------------------------------------------------------------------------------------------------------\u001b[0m\n",
      " Step |   Time |      Value |   colsample_bytree |       eta |     gamma |   max_depth |   min_child_weight |   n_estimators |   subsample | \n",
      "    6 | 01m27s |    0.37427 |             0.5402 |    0.1005 |   11.0117 |    540.1194 |             0.5835 |      1799.5400 |      0.5012 | \n",
      "    7 | 00m26s |    0.36901 |             0.5220 |    0.1096 |   12.8042 |    579.8703 |             0.6999 |       200.1930 |      0.6041 | \n",
      "    8 | 01m38s |    0.37439 |             0.5366 |    0.1155 |   12.9832 |    578.3900 |             0.5732 |      1799.9726 |      0.5538 | \n",
      "    9 | 01m34s |    0.37515 |             0.5938 |    0.1031 |   11.7329 |    541.3113 |             0.5911 |      1799.3526 |      0.4669 | \n",
      "   10 | 01m42s | \u001b[35m   0.37622\u001b[0m | \u001b[32m            0.5245\u001b[0m | \u001b[32m   0.1002\u001b[0m | \u001b[32m  11.7229\u001b[0m | \u001b[32m   578.8350\u001b[0m | \u001b[32m            0.6186\u001b[0m | \u001b[32m     1799.7901\u001b[0m | \u001b[32m     0.5618\u001b[0m | \n"
     ]
    }
   ],
   "source": [
    "#Bayesian Hyper parameter optimization of gradient boosted trees\n",
    "treesBO_XGB = BayesianOptimization(treesXGBCV,{'eta':(0.10,0.12),\n",
    "                                        'gamma':(10,13),\n",
    "                                        'max_depth':(540,580),\n",
    "                                        'min_child_weight':(0.5,0.7),\n",
    "                                        'subsample':(0.4,0.7),\n",
    "                                        'colsample_bytree':(0.5,0.6),\n",
    "                                        'n_estimators':(200,1800)})\n",
    "treesBO_XGB.maximize(n_iter=iter_no, **gp_params)\n",
    "treeXGB_best = treesBO_XGB.res['max']"
   ]
  },
  {
   "cell_type": "raw",
   "metadata": {},
   "source": [
    "treeXGB_best={'max_params': {'colsample_bytree': 0.5245428452100102,\n",
    "  'eta': 0.10022795146632965,\n",
    "  'gamma': 11.7228876502901,\n",
    "  'max_depth': 578.8350173588299,\n",
    "  'min_child_weight': 0.6185757747201297,\n",
    "  'n_estimators': 1799.790138239587,\n",
    "  'subsample': 0.5618369601716557},\n",
    " 'max_val': 0.3762218755255835}\n"
   ]
  },
  {
   "cell_type": "code",
   "execution_count": 67,
   "metadata": {},
   "outputs": [
    {
     "name": "stdout",
     "output_type": "stream",
     "text": [
      "\u001b[31mInitialization\u001b[0m\n",
      "\u001b[94m--------------------------------------------------------------------------------------------------------------------------------\u001b[0m\n",
      " Step |   Time |      Value |   colsample_bytree |       eta |   max_depth |   min_child_weight |   n_estimators |   subsample | \n",
      "    1 | 00m05s | \u001b[35m   0.31646\u001b[0m | \u001b[32m            0.5490\u001b[0m | \u001b[32m   0.1159\u001b[0m | \u001b[32m   553.5303\u001b[0m | \u001b[32m            0.5789\u001b[0m | \u001b[32m      747.6369\u001b[0m | \u001b[32m     0.4181\u001b[0m | \n",
      "    2 | 00m02s | \u001b[35m   0.35937\u001b[0m | \u001b[32m            0.5398\u001b[0m | \u001b[32m   0.1152\u001b[0m | \u001b[32m   564.1951\u001b[0m | \u001b[32m            0.5877\u001b[0m | \u001b[32m      211.6239\u001b[0m | \u001b[32m     0.5301\u001b[0m | \n",
      "    3 | 00m03s |    0.34578 |             0.5625 |    0.1072 |    555.0954 |             0.6534 |       413.2383 |      0.6482 | \n",
      "    4 | 00m09s |    0.27492 |             0.5559 |    0.1134 |    557.3951 |             0.5041 |      1389.1686 |      0.6748 | \n",
      "    5 | 00m01s | \u001b[35m   0.36478\u001b[0m | \u001b[32m            0.5402\u001b[0m | \u001b[32m   0.1110\u001b[0m | \u001b[32m   559.0544\u001b[0m | \u001b[32m            0.5004\u001b[0m | \u001b[32m      110.6704\u001b[0m | \u001b[32m     0.6528\u001b[0m | \n",
      "\u001b[31mBayesian Optimization\u001b[0m\n",
      "\u001b[94m--------------------------------------------------------------------------------------------------------------------------------\u001b[0m\n",
      " Step |   Time |      Value |   colsample_bytree |       eta |   max_depth |   min_child_weight |   n_estimators |   subsample | \n",
      "    6 | 00m12s | \u001b[35m   0.36616\u001b[0m | \u001b[32m            0.5165\u001b[0m | \u001b[32m   0.1089\u001b[0m | \u001b[32m   579.6737\u001b[0m | \u001b[32m            0.5760\u001b[0m | \u001b[32m      100.4297\u001b[0m | \u001b[32m     0.6785\u001b[0m | \n",
      "    7 | 00m12s |    0.36475 |             0.5310 |    0.1143 |    541.3087 |             0.6274 |       100.2921 |      0.4277 | \n",
      "    8 | 00m13s |    0.36350 |             0.5201 |    0.1152 |    578.9238 |             0.6335 |       100.3955 |      0.6443 | \n",
      "    9 | 00m17s | \u001b[35m   0.36827\u001b[0m | \u001b[32m            0.5794\u001b[0m | \u001b[32m   0.1126\u001b[0m | \u001b[32m   541.8278\u001b[0m | \u001b[32m            0.6400\u001b[0m | \u001b[32m      100.3045\u001b[0m | \u001b[32m     0.5687\u001b[0m | \n",
      "   10 | 00m20s |    0.36399 |             0.5610 |    0.1002 |    540.0643 |             0.5867 |       100.2393 |      0.6254 | \n"
     ]
    }
   ],
   "source": [
    "#Bayesian Hyper parameter optimization of gradient boosted trees\n",
    "treesBO_LGB = BayesianOptimization(treesLGBCV,{'eta':(0.10,0.12),\n",
    "                                        'max_depth':(540,580),\n",
    "                                        'min_child_weight':(0.5,0.7),\n",
    "                                        'subsample':(0.4,0.7),\n",
    "                                        'colsample_bytree':(0.5,0.6),\n",
    "                                        'n_estimators':(100,1800)})\n",
    "treesBO_LGB.maximize(n_iter=iter_no, **gp_params)\n",
    "treeLGB_best = treesBO_LGB.res['max']"
   ]
  },
  {
   "cell_type": "raw",
   "metadata": {},
   "source": [
    "treeLGB_best = {'max_params': {'colsample_bytree': 0.5793789631415065,\n",
    "  'eta': 0.11259743479780729,\n",
    "  'max_depth': 541.8277797079586,\n",
    "  'min_child_weight': 0.6399581576509725,\n",
    "  'n_estimators': 100.30452534921804,\n",
    "  'subsample': 0.5687484190416828},\n",
    " 'max_val': 0.36826598547314315}"
   ]
  },
  {
   "cell_type": "code",
   "execution_count": 15,
   "metadata": {},
   "outputs": [
    {
     "name": "stdout",
     "output_type": "stream",
     "text": [
      "\u001b[31mInitialization\u001b[0m\n",
      "\u001b[94m---------------------------------------------------------------------------------------------------------\u001b[0m\n",
      " Step |   Time |      Value |   max_depth |   max_leaf_nodes |   min_impurity_decrease |   n_estimators | \n",
      "    1 | 00m05s | \u001b[35m   0.91623\u001b[0m | \u001b[32m   500.8975\u001b[0m | \u001b[32m        593.4298\u001b[0m | \u001b[32m                 9.6670\u001b[0m | \u001b[32m      274.7630\u001b[0m | \n",
      "    2 | 00m32s |    0.91623 |    311.2875 |         115.3406 |                  5.2241 |      1722.5184 | \n",
      "    3 | 00m15s |    0.91623 |    367.9809 |         130.6525 |                  5.5887 |       824.5636 | \n",
      "    4 | 00m29s |    0.91623 |    586.1954 |         126.1869 |                  2.6158 |      1603.7688 | \n",
      "    5 | 00m16s |    0.91623 |    113.1023 |         501.7729 |                  9.9933 |       857.5034 | \n",
      "\u001b[31mBayesian Optimization\u001b[0m\n",
      "\u001b[94m---------------------------------------------------------------------------------------------------------\u001b[0m\n",
      " Step |   Time |      Value |   max_depth |   max_leaf_nodes |   min_impurity_decrease |   n_estimators | \n",
      "    6 | 00m08s |    0.91623 |     63.3992 |          56.2597 |                  2.7144 |       111.0073 | \n",
      "    7 | 00m39s |    0.91623 |     52.5112 |         598.1257 |                  2.3748 |      1759.5742 | \n",
      "    8 | 00m11s |    0.91623 |    599.0559 |         587.1762 |                  8.2217 |       114.9586 | \n",
      "    9 | 03m03s | \u001b[35m   0.94182\u001b[0m | \u001b[32m   588.5970\u001b[0m | \u001b[32m        593.4070\u001b[0m | \u001b[32m                 0.0892\u001b[0m | \u001b[32m     1793.7628\u001b[0m | \n",
      "   10 | 00m43s |    0.91623 |    581.5531 |         598.5755 |                  8.2132 |      1798.5605 | \n"
     ]
    }
   ],
   "source": [
    "#Bayesian Hyper parameter optimization of gradient boosted trees\n",
    "treesBO_RF = BayesianOptimization(treesRFCV,{'max_depth':(50,600),\n",
    "                                        'max_leaf_nodes':(50,600),\n",
    "                                        'min_impurity_decrease':(0,10),\n",
    "                                        'n_estimators':(100,1800)})\n",
    "treesBO_RF.maximize(n_iter=iter_no, **gp_params)\n",
    "treeRF_best = treesBO_RF.res['max']"
   ]
  },
  {
   "cell_type": "raw",
   "metadata": {},
   "source": [
    "treeRF_best={'max_params': {'max_depth': 588.596971437745,\n",
    "  'max_leaf_nodes': 593.4069875074068,\n",
    "  'min_impurity_decrease': 0.08918286216253235,\n",
    "  'n_estimators': 1793.762768992299},\n",
    " 'max_val': 0.9418236249620601}"
   ]
  },
  {
   "cell_type": "code",
   "execution_count": 26,
   "metadata": {},
   "outputs": [],
   "source": [
    "#train tree with best param for XGB\n",
    "trees_model_xgb = xgb.XGBRegressor(objective='binary:logistic',\n",
    "                                tree_method = 'hist',\n",
    "                                seed=42,\n",
    "                                learning_rate=max(treeXGB_best['max_params']['eta'],0),\n",
    "                                gamma=max(treeXGB_best['max_params']['gamma'],0),\n",
    "                                max_depth=int(treeXGB_best['max_params']['max_depth']),\n",
    "                                min_child_weight=int(treeXGB_best['max_params']['min_child_weight']),\n",
    "                                silent=True,\n",
    "                                subsample=max(min(treeXGB_best['max_params']['subsample'],1),0.0001),\n",
    "                                colsample_bytree=max(min(treeXGB_best['max_params']['colsample_bytree'],1),0.0001),\n",
    "                                n_estimators=int(treeXGB_best['max_params']['n_estimators']),nthread=-1)\n",
    "trees_model_xgb.fit(X_train, y_train)\n",
    "y_hat1 = trees_model_xgb.predict(np.array(X_test1))"
   ]
  },
  {
   "cell_type": "code",
   "execution_count": 45,
   "metadata": {},
   "outputs": [],
   "source": [
    "#train tree with best paras for LGB\n",
    "trees_model_lgb = lgb.LGBMRegressor(objective='binary',\n",
    "                                boosting_type = 'goss',\n",
    "                                random_state=42,\n",
    "                                learning_rate=max(treeLGB_best['max_params']['eta'],0),\n",
    "                                max_depth=int(treeLGB_best['max_params']['max_depth']),\n",
    "                                min_child_weight=int(treeLGB_best['max_params']['min_child_weight']),\n",
    "                                silent=True,\n",
    "                                subsample=max(min(treeLGB_best['max_params']['subsample'],1),0.0001),\n",
    "                                colsample_bytree=max(min(treeLGB_best['max_params']['colsample_bytree'],1),0.0001),\n",
    "                                n_estimators=int(treeLGB_best['max_params']['n_estimators']),nthread=-1)\n",
    "trees_model_lgb.fit(X_train, y_train)\n",
    "y_hat2 = trees_model_lgb.predict(np.array(X_test1))"
   ]
  },
  {
   "cell_type": "code",
   "execution_count": 30,
   "metadata": {},
   "outputs": [],
   "source": [
    "#train tree with best paras for RF\n",
    "trees_model_rf = RandomForestClassifier(criterion='entropy',\n",
    "                                max_features = None,\n",
    "                                max_depth=int(treeRF_best['max_params']['max_depth']),\n",
    "                                max_leaf_nodes=int(treeRF_best['max_params']['max_leaf_nodes']),\n",
    "                                min_impurity_decrease=int(treeRF_best['max_params']['min_impurity_decrease']),\n",
    "                                random_state=seed,\n",
    "                                n_estimators=int(treeRF_best['max_params']['n_estimators']),n_jobs=-1)\n",
    "trees_model_rf.fit(X_train, y_train)\n",
    "y_hat3 = trees_model_rf.predict_proba(np.array(X_test1))"
   ]
  },
  {
   "cell_type": "code",
   "execution_count": 50,
   "metadata": {},
   "outputs": [
    {
     "name": "stdout",
     "output_type": "stream",
     "text": [
      "LGBM performance without BO\n",
      "Training until validation scores don't improve for 100 rounds.\n",
      "[150]\ttraining's auc: 0.917452\tvalid_1's auc: 0.895011\n",
      "[300]\ttraining's auc: 0.923131\tvalid_1's auc: 0.897115\n",
      "[450]\ttraining's auc: 0.927437\tvalid_1's auc: 0.898767\n",
      "[600]\ttraining's auc: 0.932053\tvalid_1's auc: 0.900915\n",
      "[750]\ttraining's auc: 0.935492\tvalid_1's auc: 0.901874\n",
      "[900]\ttraining's auc: 0.938547\tvalid_1's auc: 0.902352\n",
      "[1050]\ttraining's auc: 0.941421\tvalid_1's auc: 0.903056\n",
      "[1200]\ttraining's auc: 0.94392\tvalid_1's auc: 0.903868\n",
      "[1350]\ttraining's auc: 0.946296\tvalid_1's auc: 0.90428\n",
      "[1500]\ttraining's auc: 0.948644\tvalid_1's auc: 0.904287\n",
      "Early stopping, best iteration is:\n",
      "[1416]\ttraining's auc: 0.947243\tvalid_1's auc: 0.904382\n"
     ]
    }
   ],
   "source": [
    "X1_train, X1_test, y1_train, y1_test = train_test_split(np.array(data_train.drop(['is_promoted'],axis=1)),\n",
    "                                                        np.array(data_train['is_promoted']), test_size=0.2, random_state=seed)\n",
    "\n",
    "def run_lgb(train_X, train_y, val_X, val_y):\n",
    "    params = {\n",
    "    \"objective\" : \"binary\",\n",
    "    \"metric\" : \"auc\",\n",
    "    \"num_leaves\" : 40,\n",
    "    \"learning_rate\" : 0.005,\n",
    "    \"bagging_fraction\" : 0.6,\n",
    "    \"feature_fraction\" : 0.6,\n",
    "    \"bagging_frequency\" : 6,\n",
    "    \"bagging_seed\" : 42,\n",
    "    \"verbosity\" : -1,\n",
    "    \"seed\": seed\n",
    "    }\n",
    "\n",
    "    lgtrain = lgb.Dataset(train_X, label = train_y)\n",
    "    lgval = lgb.Dataset(val_X, label = val_y)\n",
    "    evals_result = {}\n",
    "    model = lgb.train(params, lgtrain, 5000, valid_sets = [lgtrain, lgval], early_stopping_rounds = 100, \n",
    "                  verbose_eval = 150, evals_result = evals_result)\n",
    "    return model, evals_result\n",
    "    \n",
    "print(\"LGBM performance without BO\")\n",
    "model_lgbm, evals_result = run_lgb(X1_train, y1_train, X1_test, y1_test)\n"
   ]
  },
  {
   "cell_type": "code",
   "execution_count": 51,
   "metadata": {},
   "outputs": [],
   "source": [
    "y_hatx = model_lgbm.predict(np.array(X_test1))"
   ]
  },
  {
   "cell_type": "code",
   "execution_count": null,
   "metadata": {},
   "outputs": [],
   "source": [
    "confusion_matrix(y_test1,np.where(y_hatx>.5,1,0))"
   ]
  },
  {
   "cell_type": "code",
   "execution_count": 66,
   "metadata": {},
   "outputs": [
    {
     "data": {
      "text/plain": [
       "array([[14928,    60],\n",
       "       [ 1057,   397]])"
      ]
     },
     "execution_count": 66,
     "metadata": {},
     "output_type": "execute_result"
    }
   ],
   "source": [
    "confusion_matrix(y_test1,np.where(rf_smote_accuracy[:,1]>.5,1,0))"
   ]
  },
  {
   "cell_type": "code",
   "execution_count": 63,
   "metadata": {},
   "outputs": [
    {
     "data": {
      "text/plain": [
       "0.9087707350658152"
      ]
     },
     "execution_count": 63,
     "metadata": {},
     "output_type": "execute_result"
    }
   ],
   "source": [
    "roc_auc_score(y_test1,y_hatx)"
   ]
  },
  {
   "cell_type": "code",
   "execution_count": 40,
   "metadata": {},
   "outputs": [
    {
     "data": {
      "text/plain": [
       "array([[14965,    23],\n",
       "       [ 1003,   451]])"
      ]
     },
     "execution_count": 40,
     "metadata": {},
     "output_type": "execute_result"
    }
   ],
   "source": [
    "confusion_matrix(y_test1,np.where(y_hat1>.5,1,0))"
   ]
  },
  {
   "cell_type": "code",
   "execution_count": 46,
   "metadata": {},
   "outputs": [
    {
     "data": {
      "text/plain": [
       "array([[14782,   206],\n",
       "       [  913,   541]])"
      ]
     },
     "execution_count": 46,
     "metadata": {},
     "output_type": "execute_result"
    }
   ],
   "source": [
    "confusion_matrix(y_test1,np.where(y_hat2>.5,1,0))"
   ]
  },
  {
   "cell_type": "code",
   "execution_count": 41,
   "metadata": {},
   "outputs": [
    {
     "data": {
      "text/plain": [
       "array([[14927,    61],\n",
       "       [  968,   486]])"
      ]
     },
     "execution_count": 41,
     "metadata": {},
     "output_type": "execute_result"
    }
   ],
   "source": [
    "confusion_matrix(y_test1,np.where(y_hat3[:,1]>.5,1,0))"
   ]
  },
  {
   "cell_type": "code",
   "execution_count": 62,
   "metadata": {},
   "outputs": [
    {
     "data": {
      "text/plain": [
       "(0.9068077708384039, 0.8942785360796659, 0.903998875395594, 0.8861791863568801)"
      ]
     },
     "execution_count": 62,
     "metadata": {},
     "output_type": "execute_result"
    }
   ],
   "source": [
    "roc_auc_score(y_test1,y_hat1), roc_auc_score(y_test1,y_hat2), roc_auc_score(y_test1,y_hat3[:,1]), roc_auc_score(y_test1,rf_smote_accuracy[:,1])"
   ]
  },
  {
   "cell_type": "code",
   "execution_count": null,
   "metadata": {},
   "outputs": [],
   "source": [
    "#yhat=np.where(y_hat1>=.5,1,0)"
   ]
  },
  {
   "cell_type": "code",
   "execution_count": null,
   "metadata": {},
   "outputs": [],
   "source": [
    "#train test split doesnt actually split\n",
    "X_train, X_test, y_train, y_test = train_test_split(np.array(data_train.drop(['is_promoted'],axis=1)), np.array(data_train['is_promoted']), test_size=0.2, random_state=42)\n",
    "X_test1 = data_pred"
   ]
  },
  {
   "cell_type": "code",
   "execution_count": null,
   "metadata": {},
   "outputs": [],
   "source": [
    "#'''\n",
    "def run_lgb(train_X, train_y, val_X, val_y):\n",
    "    params = {\n",
    "    \"objective\" : \"binary\",\n",
    "    \"metric\" : \"auc\",\n",
    "    \"num_leaves\" : 40,\n",
    "    \"learning_rate\" : 0.005,\n",
    "    \"bagging_fraction\" : 0.6,\n",
    "    \"feature_fraction\" : 0.6,\n",
    "    \"bagging_frequency\" : 6,\n",
    "    \"bagging_seed\" : 42,\n",
    "    \"verbosity\" : -1,\n",
    "    \"seed\": 42\n",
    "    }\n",
    "\n",
    "    lgtrain = lgb.Dataset(train_X, label = train_y)\n",
    "    lgval = lgb.Dataset(val_X, label = val_y)\n",
    "    evals_result = {}\n",
    "    model = lgb.train(params, lgtrain, 5000, valid_sets = [lgtrain, lgval], early_stopping_rounds = 100, \n",
    "              verbose_eval = 150, evals_result = evals_result)\n",
    "    return model, evals_result\n",
    "#'''"
   ]
  },
  {
   "cell_type": "code",
   "execution_count": null,
   "metadata": {},
   "outputs": [],
   "source": [
    "\n",
    "#print(\"LGBM performance\")\n",
    "model_lgbm, evals_result = run_lgb(X_train, y_train, X_test, y_test)\n",
    "\n",
    "print(\"LightGBM Training Completed...\")\n",
    "#print(\"################################################\")\n",
    "y_hat2 = model_lgbm.predict(np.array(X_test1))\n"
   ]
  },
  {
   "cell_type": "code",
   "execution_count": null,
   "metadata": {},
   "outputs": [],
   "source": [
    "'''\n",
    "cb_model = CatBoostClassifier(iterations=500,\n",
    "                            # objective = 'binary',\n",
    "                             learning_rate=0.05,\n",
    "                             depth=10,\n",
    "                             eval_metric='AUC',\n",
    "                             random_seed = 42,\n",
    "                             bagging_temperature = 0.2,\n",
    "                             od_type='Iter',\n",
    "                             metric_period = 50,\n",
    "                             od_wait=20)\n",
    "'''"
   ]
  },
  {
   "cell_type": "code",
   "execution_count": null,
   "metadata": {},
   "outputs": [],
   "source": [
    "#cb_model.fit(X_train, y_train,\n",
    "#             eval_set=(X_test, y_test),\n",
    "#             use_best_model=True,\n",
    "#             verbose=True)\n",
    "#pred_test_cat = (cb_model.predict_proba(np.array(X_test1)))"
   ]
  },
  {
   "cell_type": "code",
   "execution_count": null,
   "metadata": {},
   "outputs": [],
   "source": [
    "yhats = y_hat1 + y_hat2"
   ]
  },
  {
   "cell_type": "code",
   "execution_count": null,
   "metadata": {},
   "outputs": [],
   "source": [
    "#yhats = (pred_test_xgb*.5+y_hat2*.3+pred_test_cat[:,1])"
   ]
  },
  {
   "cell_type": "code",
   "execution_count": null,
   "metadata": {},
   "outputs": [],
   "source": [
    "yhat = np.where(yhats>.5,1,0)"
   ]
  },
  {
   "cell_type": "code",
   "execution_count": null,
   "metadata": {},
   "outputs": [],
   "source": [
    "\n",
    "submission = pd.DataFrame({'employee_id':np.array(data_pred.reset_index(\"employee_id\")['employee_id']),'is_promoted':yhat})\n",
    "\n",
    "#write to file for submission\n",
    "submission.to_csv('submission.csv',sep=',', index=False)"
   ]
  },
  {
   "cell_type": "code",
   "execution_count": null,
   "metadata": {},
   "outputs": [],
   "source": [
    "submission.head()"
   ]
  },
  {
   "cell_type": "code",
   "execution_count": null,
   "metadata": {},
   "outputs": [],
   "source": [
    "trees_model.feature_importances_"
   ]
  },
  {
   "cell_type": "code",
   "execution_count": null,
   "metadata": {},
   "outputs": [],
   "source": [
    "submission.is_promoted.value_counts()"
   ]
  },
  {
   "cell_type": "code",
   "execution_count": 54,
   "metadata": {},
   "outputs": [],
   "source": [
    "# import ensemble models\n",
    "\n",
    "from sklearn.ensemble import RandomForestClassifier,AdaBoostClassifier\n",
    "from pprint import pprint\n",
    "from sklearn.model_selection import RandomizedSearchCV\n",
    "\n",
    "# First create the base model to tune\n",
    "\n",
    "rf = RandomForestClassifier()\n",
    "\n",
    "# Number of trees in random forest\n",
    "n_estimators = [int(x) for x in np.linspace(start = 200, stop = 2000, num = 10)]\n",
    "# Number of features to consider at every split\n",
    "max_features = ['auto', 'sqrt']\n",
    "# Maximum number of levels in tree\n",
    "max_depth = [int(x) for x in np.linspace(10, 110, num = 11)]\n",
    "max_depth.append(None)\n",
    "# Minimum number of samples required to split a node\n",
    "min_samples_split = [2, 5, 10]\n",
    "# Minimum number of samples required at each leaf node\n",
    "min_samples_leaf = [1, 2, 4]\n",
    "# Method of selecting samples for training each tree\n",
    "bootstrap = [True, False]\n",
    "random_state = [42]\n",
    "\n",
    "# Create the random grid\n",
    "\n",
    "random_grid = {'n_estimators': n_estimators,\n",
    "               'max_features': max_features,\n",
    "               'max_depth': max_depth,\n",
    "               'min_samples_split': min_samples_split,\n",
    "               'min_samples_leaf': min_samples_leaf,\n",
    "               'bootstrap': bootstrap,\n",
    "               'random_state':random_state}\n",
    "\n"
   ]
  },
  {
   "cell_type": "code",
   "execution_count": 55,
   "metadata": {},
   "outputs": [
    {
     "data": {
      "text/plain": [
       "RandomizedSearchCV(cv=3, error_score='raise',\n",
       "          estimator=RandomForestClassifier(bootstrap=True, class_weight=None, criterion='gini',\n",
       "            max_depth=None, max_features='auto', max_leaf_nodes=None,\n",
       "            min_impurity_decrease=0.0, min_impurity_split=None,\n",
       "            min_samples_leaf=1, min_samples_split=2,\n",
       "            min_weight_fraction_leaf=0.0, n_estimators=10, n_jobs=1,\n",
       "            oob_score=False, random_state=None, verbose=0,\n",
       "            warm_start=False),\n",
       "          fit_params=None, iid=True, n_iter=5, n_jobs=-1,\n",
       "          param_distributions={'random_state': [42], 'n_estimators': [200, 400, 600, 800, 1000, 1200, 1400, 1600, 1800, 2000], 'bootstrap': [True, False], 'min_samples_leaf': [1, 2, 4], 'max_depth': [10, 20, 30, 40, 50, 60, 70, 80, 90, 100, 110, None], 'min_samples_split': [2, 5, 10], 'max_features': ['auto', 'sqrt']},\n",
       "          pre_dispatch='2*n_jobs', random_state=42, refit=True,\n",
       "          return_train_score='warn', scoring=None, verbose=0)"
      ]
     },
     "execution_count": 55,
     "metadata": {},
     "output_type": "execute_result"
    }
   ],
   "source": [
    "#pprint(random_grid)\n",
    "\n",
    "# Random search of parameters, using 10 fold cross validation,\n",
    "# search across 50 different combinations, and use all available cores\n",
    "rf_smote = RandomizedSearchCV(estimator = rf, param_distributions = random_grid, n_iter = 5, cv = 3, verbose=0, random_state=42, n_jobs = -1)\n",
    "# Fit the random search model\n",
    "rf_smote.fit(X1_train, y1_train)\n",
    "\n",
    "# Random search of parameters, using 10 fold cross validation,\n",
    "# search across 50 different combinations, and use all available cores\n",
    "#rf_smote2 = RandomizedSearchCV(estimator = rf, param_distributions = random_grid, n_iter = 5, cv = 3, verbose=0, random_state=42, n_jobs = -1)\n",
    "# Fit the random search model\n",
    "#rf_smote2.fit(training_features2, training_target2)\n",
    "\n",
    "# Check accuracy on test set\n"
   ]
  },
  {
   "cell_type": "code",
   "execution_count": 60,
   "metadata": {},
   "outputs": [],
   "source": [
    "rf_smote_accuracy = rf_smote.predict_proba(X_test1)"
   ]
  },
  {
   "cell_type": "code",
   "execution_count": 61,
   "metadata": {},
   "outputs": [
    {
     "data": {
      "text/plain": [
       "array([[1.        , 0.        ],\n",
       "       [0.99555357, 0.00444643],\n",
       "       [0.87972302, 0.12027698],\n",
       "       ...,\n",
       "       [0.99090833, 0.00909167],\n",
       "       [1.        , 0.        ],\n",
       "       [0.92201786, 0.07798214]])"
      ]
     },
     "execution_count": 61,
     "metadata": {},
     "output_type": "execute_result"
    }
   ],
   "source": [
    "rf_smote_accuracy"
   ]
  },
  {
   "cell_type": "code",
   "execution_count": null,
   "metadata": {},
   "outputs": [],
   "source": []
  }
 ],
 "metadata": {
  "kernelspec": {
   "display_name": "Python [default]",
   "language": "python",
   "name": "python3"
  },
  "language_info": {
   "codemirror_mode": {
    "name": "ipython",
    "version": 3
   },
   "file_extension": ".py",
   "mimetype": "text/x-python",
   "name": "python",
   "nbconvert_exporter": "python",
   "pygments_lexer": "ipython3",
   "version": "3.5.5"
  }
 },
 "nbformat": 4,
 "nbformat_minor": 2
}
